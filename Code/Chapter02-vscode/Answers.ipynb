{
 "cells": [
  {
   "cell_type": "code",
   "execution_count": null,
   "metadata": {
    "dotnet_interactive": {
     "language": "csharp"
    },
    "vscode": {
     "languageId": "dotnet-interactive.csharp"
    }
   },
   "outputs": [],
   "source": []
  },
  {
   "cell_type": "code",
   "execution_count": null,
   "metadata": {
    "dotnet_interactive": {
     "language": "csharp"
    },
    "vscode": {
     "languageId": "dotnet-interactive.csharp"
    }
   },
   "outputs": [
    {
     "name": "stdout",
     "output_type": "stream",
     "text": [
      "int uses 4 bytes and can store numbers in the range -2,147,483,648 to 2,147,483,647\r\n",
      "double uses 8 bytes and can store numbers in the range -179,769,313,486,231,570,814,527,423,731,704,356,798,070,567,525,844,996,598,917,476,803,157,260,780,028,538,760,589,558,632,766,878,171,540,458,953,514,382,464,234,321,326,889,464,182,768,467,546,703,537,516,986,049,910,576,551,282,076,245,490,090,389,328,944,075,868,508,455,133,942,304,583,236,903,222,948,165,808,559,332,123,348,274,797,826,204,144,723,168,738,177,180,919,299,881,250,404,026,184,124,858,368 to 179,769,313,486,231,570,814,527,423,731,704,356,798,070,567,525,844,996,598,917,476,803,157,260,780,028,538,760,589,558,632,766,878,171,540,458,953,514,382,464,234,321,326,889,464,182,768,467,546,703,537,516,986,049,910,576,551,282,076,245,490,090,389,328,944,075,868,508,455,133,942,304,583,236,903,222,948,165,808,559,332,123,348,274,797,826,204,144,723,168,738,177,180,919,299,881,250,404,026,184,124,858,368\r\n",
      "decimal uses 16 bytes and can store numbers in the range -79,228,162,514,264,337,593,543,950,335 to 79,228,162,514,264,337,593,543,950,335\r\n",
      "long uses 8 bytes and can store numbers in the range -9,223,372,036,854,775,808 to 9,223,372,036,854,775,807\r\n",
      "float uses 4 bytes and can store numbers in the range -340,282,346,638,528,859,811,704,183,484,516,925,440 to 340,282,346,638,528,859,811,704,183,484,516,925,440\r\n"
     ]
    }
   ],
   "source": [
    "Console.WriteLine($\"int uses {sizeof(int)} bytes and can store numbers in the range {int.MinValue:N0} to {int.MaxValue:N0}\");\n",
    "Console.WriteLine($\"double uses {sizeof(double)} bytes and can store numbers in the range {double.MinValue:N0} to {double.MaxValue:N0}\");\n",
    "Console.WriteLine($\"decimal uses {sizeof(decimal)} bytes and can store numbers in the range {decimal.MinValue:N0} to {decimal.MaxValue:N0}\");\n",
    "Console.WriteLine($\"long uses {sizeof(long)} bytes and can store numbers in the range {long.MinValue:N0} to {long.MaxValue:N0}\");\n",
    "Console.WriteLine($\"float uses {sizeof(float)} bytes and can store numbers in the range {float.MinValue:N0} to {float.MaxValue:N0}\");"
   ]
  },
  {
   "cell_type": "code",
   "execution_count": null,
   "metadata": {
    "dotnet_interactive": {
     "language": "csharp"
    },
    "vscode": {
     "languageId": "dotnet-interactive.csharp"
    }
   },
   "outputs": [
    {
     "name": "stdout",
     "output_type": "stream",
     "text": [
      "True\r\n",
      "True\r\n"
     ]
    }
   ],
   "source": [
    "int decimalNotation = 2_000_000;\n",
    "int binaryNotation = 0b_0001_1110_1000_0100_1000_0000;\n",
    "int hexadecimalNotation = 0x_001E_8480;\n",
    "Console.WriteLine($\"{decimalNotation == binaryNotation}\");\n",
    "Console.WriteLine($\"{decimalNotation == hexadecimalNotation}\");"
   ]
  },
  {
   "cell_type": "markdown",
   "metadata": {},
   "source": [
    "1. #error version\n",
    "2. Single and multiple line\n",
    "3. Interpolated strings will allow the use of excape characters like \\n, \\t, \\\\ as well as some embedding formatted variables. It starts with an $. Verbatim strings start with an @ symbol and will ignore these special characters from before. This also means they may contain mutliple lines and whitespace \n",
    "4. Double cannot accurately portray numbers like 0.1, it does have higher min and max though\n",
    "5. Using Sizeof()\n",
    "6. When the type of a variable may be infered, like when something has a contstructor\n",
    "7. XmlDocuument name = new()\n",
    "8. It is not performant often times \n",
    "9. {index [, alignment] [ : formatString ] }\n",
    "10. Space\n"
   ]
  },
  {
   "cell_type": "markdown",
   "metadata": {},
   "source": [
    "1. long \n",
    "2. float \n",
    "3. int \n",
    "4. float\n",
    "5. long\n",
    "6. int \n",
    "7. float \n",
    "8. long\n",
    "9. double \n",
    "10. long\n"
   ]
  }
 ],
 "metadata": {
  "kernelspec": {
   "display_name": ".NET (C#)",
   "language": "C#",
   "name": ".net-csharp"
  },
  "language_info": {
   "name": "C#"
  }
 },
 "nbformat": 4,
 "nbformat_minor": 2
}
